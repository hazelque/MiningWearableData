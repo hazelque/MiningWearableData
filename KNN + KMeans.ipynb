{
 "cells": [
  {
   "cell_type": "markdown",
   "metadata": {},
   "source": [
    "# Wearable Data: Motion Recognition"
   ]
  },
  {
   "cell_type": "markdown",
   "metadata": {},
   "source": [
    "## Plan: 11/8"
   ]
  },
  {
   "cell_type": "markdown",
   "metadata": {},
   "source": [
    "- Run Supervised Learning with cross-validation (test/training data split) on data points to predict their motion classes,\n",
    "then calculate the AUC against their true classes.\n",
    "- Analyze the results from each method:\n",
    "    - KNN\n",
    "    - Decision Tree\n",
    "    - Bayesian\n",
    "    - Neural Networks(?)\n",
    "\n",
    "    \n",
    "- Run Unsupervised Clustering and see if the clusters are interpretable.\n",
    "- Compare the interpreted cluster results with their true class and see if they work better or worse than the supervised ones:\n",
    "    - Hierachical Clustering\n",
    "    - K-Means"
   ]
  },
  {
   "cell_type": "markdown",
   "metadata": {},
   "source": [
    "## 11/15"
   ]
  },
  {
   "cell_type": "markdown",
   "metadata": {},
   "source": [
    "## Read Data"
   ]
  },
  {
   "cell_type": "code",
   "execution_count": 1,
   "metadata": {
    "collapsed": false
   },
   "outputs": [],
   "source": [
    "import pandas as pd\n",
    "wearable_data = pd.read_csv(\"dataset-har-PUC-Rio-ugulino.csv\",sep=\";\", header = 0, decimal = \",\")"
   ]
  },
  {
   "cell_type": "code",
   "execution_count": 2,
   "metadata": {
    "collapsed": false
   },
   "outputs": [
    {
     "data": {
      "text/html": [
       "<div>\n",
       "<table border=\"1\" class=\"dataframe\">\n",
       "  <thead>\n",
       "    <tr style=\"text-align: right;\">\n",
       "      <th></th>\n",
       "      <th>user</th>\n",
       "      <th>gender</th>\n",
       "      <th>age</th>\n",
       "      <th>how_tall_in_meters</th>\n",
       "      <th>weight</th>\n",
       "      <th>body_mass_index</th>\n",
       "      <th>x1</th>\n",
       "      <th>y1</th>\n",
       "      <th>z1</th>\n",
       "      <th>x2</th>\n",
       "      <th>y2</th>\n",
       "      <th>z2</th>\n",
       "      <th>x3</th>\n",
       "      <th>y3</th>\n",
       "      <th>z3</th>\n",
       "      <th>x4</th>\n",
       "      <th>y4</th>\n",
       "      <th>z4</th>\n",
       "      <th>class</th>\n",
       "    </tr>\n",
       "  </thead>\n",
       "  <tbody>\n",
       "    <tr>\n",
       "      <th>0</th>\n",
       "      <td>debora</td>\n",
       "      <td>Woman</td>\n",
       "      <td>46</td>\n",
       "      <td>1.62</td>\n",
       "      <td>75</td>\n",
       "      <td>28.6</td>\n",
       "      <td>-3</td>\n",
       "      <td>92</td>\n",
       "      <td>-63</td>\n",
       "      <td>-23</td>\n",
       "      <td>18</td>\n",
       "      <td>-19</td>\n",
       "      <td>5</td>\n",
       "      <td>104</td>\n",
       "      <td>-92</td>\n",
       "      <td>-150</td>\n",
       "      <td>-103</td>\n",
       "      <td>-147</td>\n",
       "      <td>sitting</td>\n",
       "    </tr>\n",
       "    <tr>\n",
       "      <th>1</th>\n",
       "      <td>debora</td>\n",
       "      <td>Woman</td>\n",
       "      <td>46</td>\n",
       "      <td>1.62</td>\n",
       "      <td>75</td>\n",
       "      <td>28.6</td>\n",
       "      <td>-3</td>\n",
       "      <td>94</td>\n",
       "      <td>-64</td>\n",
       "      <td>-21</td>\n",
       "      <td>18</td>\n",
       "      <td>-18</td>\n",
       "      <td>-14</td>\n",
       "      <td>104</td>\n",
       "      <td>-90</td>\n",
       "      <td>-149</td>\n",
       "      <td>-104</td>\n",
       "      <td>-145</td>\n",
       "      <td>sitting</td>\n",
       "    </tr>\n",
       "    <tr>\n",
       "      <th>2</th>\n",
       "      <td>debora</td>\n",
       "      <td>Woman</td>\n",
       "      <td>46</td>\n",
       "      <td>1.62</td>\n",
       "      <td>75</td>\n",
       "      <td>28.6</td>\n",
       "      <td>-1</td>\n",
       "      <td>97</td>\n",
       "      <td>-61</td>\n",
       "      <td>-12</td>\n",
       "      <td>20</td>\n",
       "      <td>-15</td>\n",
       "      <td>-13</td>\n",
       "      <td>104</td>\n",
       "      <td>-90</td>\n",
       "      <td>-151</td>\n",
       "      <td>-104</td>\n",
       "      <td>-144</td>\n",
       "      <td>sitting</td>\n",
       "    </tr>\n",
       "    <tr>\n",
       "      <th>3</th>\n",
       "      <td>debora</td>\n",
       "      <td>Woman</td>\n",
       "      <td>46</td>\n",
       "      <td>1.62</td>\n",
       "      <td>75</td>\n",
       "      <td>28.6</td>\n",
       "      <td>-2</td>\n",
       "      <td>96</td>\n",
       "      <td>-57</td>\n",
       "      <td>-15</td>\n",
       "      <td>21</td>\n",
       "      <td>-16</td>\n",
       "      <td>-13</td>\n",
       "      <td>104</td>\n",
       "      <td>-89</td>\n",
       "      <td>-153</td>\n",
       "      <td>-103</td>\n",
       "      <td>-142</td>\n",
       "      <td>sitting</td>\n",
       "    </tr>\n",
       "    <tr>\n",
       "      <th>4</th>\n",
       "      <td>debora</td>\n",
       "      <td>Woman</td>\n",
       "      <td>46</td>\n",
       "      <td>1.62</td>\n",
       "      <td>75</td>\n",
       "      <td>28.6</td>\n",
       "      <td>-1</td>\n",
       "      <td>96</td>\n",
       "      <td>-61</td>\n",
       "      <td>-13</td>\n",
       "      <td>20</td>\n",
       "      <td>-15</td>\n",
       "      <td>-13</td>\n",
       "      <td>104</td>\n",
       "      <td>-89</td>\n",
       "      <td>-153</td>\n",
       "      <td>-104</td>\n",
       "      <td>-143</td>\n",
       "      <td>sitting</td>\n",
       "    </tr>\n",
       "  </tbody>\n",
       "</table>\n",
       "</div>"
      ],
      "text/plain": [
       "     user gender  age  how_tall_in_meters  weight  body_mass_index  x1  y1  \\\n",
       "0  debora  Woman   46                1.62      75             28.6  -3  92   \n",
       "1  debora  Woman   46                1.62      75             28.6  -3  94   \n",
       "2  debora  Woman   46                1.62      75             28.6  -1  97   \n",
       "3  debora  Woman   46                1.62      75             28.6  -2  96   \n",
       "4  debora  Woman   46                1.62      75             28.6  -1  96   \n",
       "\n",
       "   z1  x2  y2  z2  x3   y3  z3   x4   y4   z4    class  \n",
       "0 -63 -23  18 -19   5  104 -92 -150 -103 -147  sitting  \n",
       "1 -64 -21  18 -18 -14  104 -90 -149 -104 -145  sitting  \n",
       "2 -61 -12  20 -15 -13  104 -90 -151 -104 -144  sitting  \n",
       "3 -57 -15  21 -16 -13  104 -89 -153 -103 -142  sitting  \n",
       "4 -61 -13  20 -15 -13  104 -89 -153 -104 -143  sitting  "
      ]
     },
     "execution_count": 2,
     "metadata": {},
     "output_type": "execute_result"
    }
   ],
   "source": [
    "wearable_data.head()"
   ]
  },
  {
   "cell_type": "code",
   "execution_count": 3,
   "metadata": {
    "collapsed": false,
    "scrolled": true
   },
   "outputs": [
    {
     "data": {
      "text/html": [
       "<div>\n",
       "<table border=\"1\" class=\"dataframe\">\n",
       "  <thead>\n",
       "    <tr style=\"text-align: right;\">\n",
       "      <th></th>\n",
       "      <th>user</th>\n",
       "      <th>gender</th>\n",
       "      <th>age</th>\n",
       "      <th>how_tall_in_meters</th>\n",
       "      <th>weight</th>\n",
       "      <th>body_mass_index</th>\n",
       "      <th>x1</th>\n",
       "      <th>y1</th>\n",
       "      <th>z1</th>\n",
       "      <th>x2</th>\n",
       "      <th>y2</th>\n",
       "      <th>z2</th>\n",
       "      <th>x3</th>\n",
       "      <th>y3</th>\n",
       "      <th>z3</th>\n",
       "      <th>x4</th>\n",
       "      <th>y4</th>\n",
       "      <th>z4</th>\n",
       "      <th>class</th>\n",
       "    </tr>\n",
       "  </thead>\n",
       "  <tbody>\n",
       "    <tr>\n",
       "      <th>0</th>\n",
       "      <td>debora</td>\n",
       "      <td>1</td>\n",
       "      <td>46</td>\n",
       "      <td>1.62</td>\n",
       "      <td>75</td>\n",
       "      <td>28.6</td>\n",
       "      <td>-3</td>\n",
       "      <td>92</td>\n",
       "      <td>-63</td>\n",
       "      <td>-23</td>\n",
       "      <td>18</td>\n",
       "      <td>-19</td>\n",
       "      <td>5</td>\n",
       "      <td>104</td>\n",
       "      <td>-92</td>\n",
       "      <td>-150</td>\n",
       "      <td>-103</td>\n",
       "      <td>-147</td>\n",
       "      <td>sitting</td>\n",
       "    </tr>\n",
       "    <tr>\n",
       "      <th>1</th>\n",
       "      <td>debora</td>\n",
       "      <td>1</td>\n",
       "      <td>46</td>\n",
       "      <td>1.62</td>\n",
       "      <td>75</td>\n",
       "      <td>28.6</td>\n",
       "      <td>-3</td>\n",
       "      <td>94</td>\n",
       "      <td>-64</td>\n",
       "      <td>-21</td>\n",
       "      <td>18</td>\n",
       "      <td>-18</td>\n",
       "      <td>-14</td>\n",
       "      <td>104</td>\n",
       "      <td>-90</td>\n",
       "      <td>-149</td>\n",
       "      <td>-104</td>\n",
       "      <td>-145</td>\n",
       "      <td>sitting</td>\n",
       "    </tr>\n",
       "    <tr>\n",
       "      <th>2</th>\n",
       "      <td>debora</td>\n",
       "      <td>1</td>\n",
       "      <td>46</td>\n",
       "      <td>1.62</td>\n",
       "      <td>75</td>\n",
       "      <td>28.6</td>\n",
       "      <td>-1</td>\n",
       "      <td>97</td>\n",
       "      <td>-61</td>\n",
       "      <td>-12</td>\n",
       "      <td>20</td>\n",
       "      <td>-15</td>\n",
       "      <td>-13</td>\n",
       "      <td>104</td>\n",
       "      <td>-90</td>\n",
       "      <td>-151</td>\n",
       "      <td>-104</td>\n",
       "      <td>-144</td>\n",
       "      <td>sitting</td>\n",
       "    </tr>\n",
       "    <tr>\n",
       "      <th>3</th>\n",
       "      <td>debora</td>\n",
       "      <td>1</td>\n",
       "      <td>46</td>\n",
       "      <td>1.62</td>\n",
       "      <td>75</td>\n",
       "      <td>28.6</td>\n",
       "      <td>-2</td>\n",
       "      <td>96</td>\n",
       "      <td>-57</td>\n",
       "      <td>-15</td>\n",
       "      <td>21</td>\n",
       "      <td>-16</td>\n",
       "      <td>-13</td>\n",
       "      <td>104</td>\n",
       "      <td>-89</td>\n",
       "      <td>-153</td>\n",
       "      <td>-103</td>\n",
       "      <td>-142</td>\n",
       "      <td>sitting</td>\n",
       "    </tr>\n",
       "    <tr>\n",
       "      <th>4</th>\n",
       "      <td>debora</td>\n",
       "      <td>1</td>\n",
       "      <td>46</td>\n",
       "      <td>1.62</td>\n",
       "      <td>75</td>\n",
       "      <td>28.6</td>\n",
       "      <td>-1</td>\n",
       "      <td>96</td>\n",
       "      <td>-61</td>\n",
       "      <td>-13</td>\n",
       "      <td>20</td>\n",
       "      <td>-15</td>\n",
       "      <td>-13</td>\n",
       "      <td>104</td>\n",
       "      <td>-89</td>\n",
       "      <td>-153</td>\n",
       "      <td>-104</td>\n",
       "      <td>-143</td>\n",
       "      <td>sitting</td>\n",
       "    </tr>\n",
       "  </tbody>\n",
       "</table>\n",
       "</div>"
      ],
      "text/plain": [
       "     user  gender  age  how_tall_in_meters  weight  body_mass_index  x1  y1  \\\n",
       "0  debora       1   46                1.62      75             28.6  -3  92   \n",
       "1  debora       1   46                1.62      75             28.6  -3  94   \n",
       "2  debora       1   46                1.62      75             28.6  -1  97   \n",
       "3  debora       1   46                1.62      75             28.6  -2  96   \n",
       "4  debora       1   46                1.62      75             28.6  -1  96   \n",
       "\n",
       "   z1  x2  y2  z2  x3   y3  z3   x4   y4   z4    class  \n",
       "0 -63 -23  18 -19   5  104 -92 -150 -103 -147  sitting  \n",
       "1 -64 -21  18 -18 -14  104 -90 -149 -104 -145  sitting  \n",
       "2 -61 -12  20 -15 -13  104 -90 -151 -104 -144  sitting  \n",
       "3 -57 -15  21 -16 -13  104 -89 -153 -103 -142  sitting  \n",
       "4 -61 -13  20 -15 -13  104 -89 -153 -104 -143  sitting  "
      ]
     },
     "execution_count": 3,
     "metadata": {},
     "output_type": "execute_result"
    }
   ],
   "source": [
    "categorical_columns = [\"gender\"]\n",
    "categorical_data = pd.DataFrame()\n",
    "wearable_data[\"gender\"] = wearable_data[\"gender\"].astype('category')\n",
    "wearable_data[categorical_columns] = wearable_data[categorical_columns].apply(lambda x: x.cat.codes)\n",
    "wearable_data.head()"
   ]
  },
  {
   "cell_type": "code",
   "execution_count": 4,
   "metadata": {
    "collapsed": false
   },
   "outputs": [
    {
     "data": {
      "text/html": [
       "<div>\n",
       "<table border=\"1\" class=\"dataframe\">\n",
       "  <thead>\n",
       "    <tr style=\"text-align: right;\">\n",
       "      <th></th>\n",
       "      <th>user</th>\n",
       "      <th>gender</th>\n",
       "      <th>age</th>\n",
       "      <th>how_tall_in_meters</th>\n",
       "      <th>weight</th>\n",
       "      <th>body_mass_index</th>\n",
       "      <th>x1</th>\n",
       "      <th>y1</th>\n",
       "      <th>z1</th>\n",
       "      <th>x2</th>\n",
       "      <th>...</th>\n",
       "      <th>y3</th>\n",
       "      <th>z3</th>\n",
       "      <th>x4</th>\n",
       "      <th>y4</th>\n",
       "      <th>z4</th>\n",
       "      <th>class_sitting</th>\n",
       "      <th>class_sittingdown</th>\n",
       "      <th>class_standing</th>\n",
       "      <th>class_standingup</th>\n",
       "      <th>class_walking</th>\n",
       "    </tr>\n",
       "  </thead>\n",
       "  <tbody>\n",
       "    <tr>\n",
       "      <th>0</th>\n",
       "      <td>debora</td>\n",
       "      <td>1</td>\n",
       "      <td>46</td>\n",
       "      <td>1.62</td>\n",
       "      <td>75</td>\n",
       "      <td>28.6</td>\n",
       "      <td>-3</td>\n",
       "      <td>92</td>\n",
       "      <td>-63</td>\n",
       "      <td>-23</td>\n",
       "      <td>...</td>\n",
       "      <td>104</td>\n",
       "      <td>-92</td>\n",
       "      <td>-150</td>\n",
       "      <td>-103</td>\n",
       "      <td>-147</td>\n",
       "      <td>1</td>\n",
       "      <td>0</td>\n",
       "      <td>0</td>\n",
       "      <td>0</td>\n",
       "      <td>0</td>\n",
       "    </tr>\n",
       "    <tr>\n",
       "      <th>1</th>\n",
       "      <td>debora</td>\n",
       "      <td>1</td>\n",
       "      <td>46</td>\n",
       "      <td>1.62</td>\n",
       "      <td>75</td>\n",
       "      <td>28.6</td>\n",
       "      <td>-3</td>\n",
       "      <td>94</td>\n",
       "      <td>-64</td>\n",
       "      <td>-21</td>\n",
       "      <td>...</td>\n",
       "      <td>104</td>\n",
       "      <td>-90</td>\n",
       "      <td>-149</td>\n",
       "      <td>-104</td>\n",
       "      <td>-145</td>\n",
       "      <td>1</td>\n",
       "      <td>0</td>\n",
       "      <td>0</td>\n",
       "      <td>0</td>\n",
       "      <td>0</td>\n",
       "    </tr>\n",
       "    <tr>\n",
       "      <th>2</th>\n",
       "      <td>debora</td>\n",
       "      <td>1</td>\n",
       "      <td>46</td>\n",
       "      <td>1.62</td>\n",
       "      <td>75</td>\n",
       "      <td>28.6</td>\n",
       "      <td>-1</td>\n",
       "      <td>97</td>\n",
       "      <td>-61</td>\n",
       "      <td>-12</td>\n",
       "      <td>...</td>\n",
       "      <td>104</td>\n",
       "      <td>-90</td>\n",
       "      <td>-151</td>\n",
       "      <td>-104</td>\n",
       "      <td>-144</td>\n",
       "      <td>1</td>\n",
       "      <td>0</td>\n",
       "      <td>0</td>\n",
       "      <td>0</td>\n",
       "      <td>0</td>\n",
       "    </tr>\n",
       "    <tr>\n",
       "      <th>3</th>\n",
       "      <td>debora</td>\n",
       "      <td>1</td>\n",
       "      <td>46</td>\n",
       "      <td>1.62</td>\n",
       "      <td>75</td>\n",
       "      <td>28.6</td>\n",
       "      <td>-2</td>\n",
       "      <td>96</td>\n",
       "      <td>-57</td>\n",
       "      <td>-15</td>\n",
       "      <td>...</td>\n",
       "      <td>104</td>\n",
       "      <td>-89</td>\n",
       "      <td>-153</td>\n",
       "      <td>-103</td>\n",
       "      <td>-142</td>\n",
       "      <td>1</td>\n",
       "      <td>0</td>\n",
       "      <td>0</td>\n",
       "      <td>0</td>\n",
       "      <td>0</td>\n",
       "    </tr>\n",
       "    <tr>\n",
       "      <th>4</th>\n",
       "      <td>debora</td>\n",
       "      <td>1</td>\n",
       "      <td>46</td>\n",
       "      <td>1.62</td>\n",
       "      <td>75</td>\n",
       "      <td>28.6</td>\n",
       "      <td>-1</td>\n",
       "      <td>96</td>\n",
       "      <td>-61</td>\n",
       "      <td>-13</td>\n",
       "      <td>...</td>\n",
       "      <td>104</td>\n",
       "      <td>-89</td>\n",
       "      <td>-153</td>\n",
       "      <td>-104</td>\n",
       "      <td>-143</td>\n",
       "      <td>1</td>\n",
       "      <td>0</td>\n",
       "      <td>0</td>\n",
       "      <td>0</td>\n",
       "      <td>0</td>\n",
       "    </tr>\n",
       "  </tbody>\n",
       "</table>\n",
       "<p>5 rows × 23 columns</p>\n",
       "</div>"
      ],
      "text/plain": [
       "     user  gender  age  how_tall_in_meters  weight  body_mass_index  x1  y1  \\\n",
       "0  debora       1   46                1.62      75             28.6  -3  92   \n",
       "1  debora       1   46                1.62      75             28.6  -3  94   \n",
       "2  debora       1   46                1.62      75             28.6  -1  97   \n",
       "3  debora       1   46                1.62      75             28.6  -2  96   \n",
       "4  debora       1   46                1.62      75             28.6  -1  96   \n",
       "\n",
       "   z1  x2      ...         y3  z3   x4   y4   z4  class_sitting  \\\n",
       "0 -63 -23      ...        104 -92 -150 -103 -147              1   \n",
       "1 -64 -21      ...        104 -90 -149 -104 -145              1   \n",
       "2 -61 -12      ...        104 -90 -151 -104 -144              1   \n",
       "3 -57 -15      ...        104 -89 -153 -103 -142              1   \n",
       "4 -61 -13      ...        104 -89 -153 -104 -143              1   \n",
       "\n",
       "   class_sittingdown  class_standing  class_standingup  class_walking  \n",
       "0                  0               0                 0              0  \n",
       "1                  0               0                 0              0  \n",
       "2                  0               0                 0              0  \n",
       "3                  0               0                 0              0  \n",
       "4                  0               0                 0              0  \n",
       "\n",
       "[5 rows x 23 columns]"
      ]
     },
     "execution_count": 4,
     "metadata": {},
     "output_type": "execute_result"
    }
   ],
   "source": [
    "categorical_columns = [\"class\"]\n",
    "categorical_data = pd.DataFrame()\n",
    "onehot_encoded_data = pd.get_dummies(wearable_data[[\"class\"]])\n",
    "categorical_data = pd.concat([categorical_data, onehot_encoded_data], axis = 1)\n",
    "wearable_data = pd.concat([wearable_data.ix[:,:-1], categorical_data],axis=1)\n",
    "wearable_data[0:5]"
   ]
  },
  {
   "cell_type": "code",
   "execution_count": 5,
   "metadata": {
    "collapsed": false
   },
   "outputs": [
    {
     "name": "stdout",
     "output_type": "stream",
     "text": [
      "[[   1.     46.      1.62   75.     28.6    -3.     92.    -63.    -23.\n",
      "    18.    -19.      5.    104.    -92.   -150.   -103.   -147.  ]\n",
      " [   1.     46.      1.62   75.     28.6    -3.     94.    -64.    -21.\n",
      "    18.    -18.    -14.    104.    -90.   -149.   -104.   -145.  ]]\n",
      "\n",
      "[[1 0 0 0 0]\n",
      " [1 0 0 0 0]\n",
      " [1 0 0 0 0]\n",
      " [1 0 0 0 0]\n",
      " [1 0 0 0 0]]\n"
     ]
    }
   ],
   "source": [
    "features = wearable_data[wearable_data.columns.values[1:-5]].as_matrix()\n",
    "labels = wearable_data[wearable_data.columns.values[-5:]].as_matrix()\n",
    "print(features[0:2, :])\n",
    "print()\n",
    "print(labels[0:5, :])"
   ]
  },
  {
   "cell_type": "markdown",
   "metadata": {},
   "source": [
    "## Train/Test split"
   ]
  },
  {
   "cell_type": "code",
   "execution_count": 7,
   "metadata": {
    "collapsed": false
   },
   "outputs": [
    {
     "name": "stderr",
     "output_type": "stream",
     "text": [
      "/Users/hazelque/anaconda/envs/tensorflow/lib/python3.5/site-packages/sklearn/cross_validation.py:44: DeprecationWarning: This module was deprecated in version 0.18 in favor of the model_selection module into which all the refactored classes and functions are moved. Also note that the interface of the new CV iterators are different from that of this module. This module will be removed in 0.20.\n",
      "  \"This module will be removed in 0.20.\", DeprecationWarning)\n"
     ]
    }
   ],
   "source": [
    "from sklearn.cross_validation import train_test_split\n",
    "features_train, features_test, labels_train, labels_test = train_test_split(features, labels, test_size=0.33,random_state=42)"
   ]
  },
  {
   "cell_type": "markdown",
   "metadata": {},
   "source": [
    "## KNN"
   ]
  },
  {
   "cell_type": "code",
   "execution_count": 8,
   "metadata": {
    "collapsed": false,
    "scrolled": true
   },
   "outputs": [
    {
     "name": "stdout",
     "output_type": "stream",
     "text": [
      "Confusion Matrix:\n",
      "[[38056    13]\n",
      " [    1 16589]]\n",
      "Accuracy: 0.999743866518\n",
      "Confusion Matrix:\n",
      "[[38057    12]\n",
      " [    3 16587]]\n",
      "Accuracy: 0.999725571269\n",
      "Confusion Matrix:\n",
      "[[38058    11]\n",
      " [    4 16586]]\n",
      "Accuracy: 0.999725571269\n",
      "Confusion Matrix:\n",
      "[[38057    12]\n",
      " [   10 16580]]\n",
      "Accuracy: 0.999597504528\n",
      "Confusion Matrix:\n",
      "[[38058    11]\n",
      " [   12 16578]]\n",
      "Accuracy: 0.999579209279\n",
      "Confusion Matrix:\n",
      "[[38057    12]\n",
      " [   16 16574]]\n",
      "Accuracy: 0.999487733036\n",
      "Confusion Matrix:\n",
      "[[38058    11]\n",
      " [   17 16573]]\n",
      "Accuracy: 0.999487733036\n",
      "Confusion Matrix:\n",
      "[[38057    12]\n",
      " [   17 16573]]\n",
      "Accuracy: 0.999469437787\n",
      "Confusion Matrix:\n",
      "[[38057    12]\n",
      " [   19 16571]]\n",
      "Accuracy: 0.99943284729\n",
      "Confusion Matrix:\n",
      "[[38055    14]\n",
      " [   24 16566]]\n",
      "Accuracy: 0.999304780548\n"
     ]
    }
   ],
   "source": [
    "# KNN for Sitting\n",
    "\n",
    "from sklearn.neighbors import KNeighborsClassifier\n",
    "from sklearn import metrics as metrics\n",
    "from sklearn.metrics import confusion_matrix\n",
    "\n",
    "labels_sitting = wearable_data[\"class_sitting\"].as_matrix()\n",
    "\n",
    "sitting_features_train, sitting_features_test, sitting_labels_train, sitting_labels_test = train_test_split(features, labels_sitting, test_size=0.33, random_state=42)\n",
    "\n",
    "for i in range(1, 21, 2):\n",
    "    neigh = KNeighborsClassifier(n_neighbors=i)\n",
    "    neigh.fit(sitting_features_train, sitting_labels_train)\n",
    "    sitting_predictions_test = neigh.predict(sitting_features_test)\n",
    "\n",
    "    print (\"Confusion Matrix:\")\n",
    "    print (confusion_matrix(sitting_labels_test, sitting_predictions_test))\n",
    "    print (\"Accuracy: \" + str(metrics.accuracy_score(sitting_labels_test, sitting_predictions_test)))"
   ]
  },
  {
   "cell_type": "code",
   "execution_count": 9,
   "metadata": {
    "collapsed": false
   },
   "outputs": [
    {
     "name": "stdout",
     "output_type": "stream",
     "text": [
      "Average Accuracy: 0.863161326547\n"
     ]
    }
   ],
   "source": [
    "from sklearn import cross_validation\n",
    "\n",
    "neigh = KNeighborsClassifier(n_neighbors=5)\n",
    "    #cv_precision = cross_validation.cross_val_score(neigh, features, labels_sitting, scoring='precision', cv=3)\n",
    "    #cv_recall =  cross_validation.cross_val_score(neigh, features, labels_sitting, scoring='recall', cv=3)\n",
    "cv_accuracy = cross_validation.cross_val_score(neigh, features, labels_sitting, scoring='accuracy', cv=3)\n",
    "    #print (\"Average Precision:\" + str(sum(cv_precision)/len(cv_precision)))\n",
    "    #print (\"Average Recall: \" + str(sum(cv_recall)/len(cv_recall)))\n",
    "print (\"Average Accuracy: \" + str(sum(cv_accuracy)/len(cv_accuracy)))"
   ]
  },
  {
   "cell_type": "code",
   "execution_count": 10,
   "metadata": {
    "collapsed": false
   },
   "outputs": [
    {
     "name": "stdout",
     "output_type": "stream",
     "text": [
      "Confusion Matrix:\n",
      "[[50648   102]\n",
      " [   55  3854]]\n",
      "Accuracy: 0.99712764595\n"
     ]
    }
   ],
   "source": [
    "# KNN for sitting down\n",
    "neigh = KNeighborsClassifier(n_neighbors=10)\n",
    "labels_sd = wearable_data[\"class_sittingdown\"].as_matrix()\n",
    "\n",
    "sd_features_train, sd_features_test, sd_labels_train, sd_labels_test = train_test_split(features, labels_sd, test_size=0.33, random_state=42)\n",
    "\n",
    "neigh.fit(sd_features_train, sd_labels_train)\n",
    "sd_predictions_test = neigh.predict(sd_features_test)\n",
    "\n",
    "print (\"Confusion Matrix:\")\n",
    "print (confusion_matrix(sd_labels_test, sd_predictions_test))\n",
    "print (\"Accuracy: \" + str(metrics.accuracy_score(sd_labels_test, sd_predictions_test)))"
   ]
  },
  {
   "cell_type": "code",
   "execution_count": 11,
   "metadata": {
    "collapsed": false
   },
   "outputs": [
    {
     "name": "stdout",
     "output_type": "stream",
     "text": [
      "Accuracy: 0.990523061161\n"
     ]
    }
   ],
   "source": [
    "neigh = KNeighborsClassifier(n_neighbors=10)\n",
    "\n",
    "neigh.fit(features_train, labels_train)\n",
    "predictions_test = neigh.predict(features_test)\n",
    "\n",
    "print (\"Accuracy: \" + str(metrics.accuracy_score(labels_test, predictions_test)))"
   ]
  },
  {
   "cell_type": "code",
   "execution_count": 12,
   "metadata": {
    "collapsed": false
   },
   "outputs": [
    {
     "name": "stdout",
     "output_type": "stream",
     "text": [
      "Average Accuracy: 0.867129237417\n"
     ]
    }
   ],
   "source": [
    "neigh = KNeighborsClassifier(n_neighbors=10)\n",
    "cv_accuracy = cross_validation.cross_val_score(neigh, features, labels_sd, scoring='accuracy', cv=10)\n",
    "print (\"Average Accuracy: \" +str(sum(cv_accuracy)/len(cv_accuracy)))"
   ]
  },
  {
   "cell_type": "code",
   "execution_count": 13,
   "metadata": {
    "collapsed": false
   },
   "outputs": [
    {
     "name": "stdout",
     "output_type": "stream",
     "text": [
      "Confusion Matrix:\n",
      "[[38881   157]\n",
      " [   50 15571]]\n",
      "Accuracy: 0.996212883514\n"
     ]
    }
   ],
   "source": [
    "# KNN for standing\n",
    "neigh = KNeighborsClassifier(n_neighbors=10)\n",
    "labels_st = wearable_data[\"class_standing\"].as_matrix()\n",
    "\n",
    "st_features_train, st_features_test, st_labels_train, st_labels_test = train_test_split(features, labels_st, test_size=0.33, random_state=42)\n",
    "\n",
    "neigh.fit(st_features_train, st_labels_train)\n",
    "st_predictions_test = neigh.predict(st_features_test)\n",
    "\n",
    "print (\"Confusion Matrix:\")\n",
    "print (confusion_matrix(st_labels_test, st_predictions_test))\n",
    "print (\"Accuracy: \" + str(metrics.accuracy_score(st_labels_test, st_predictions_test)))"
   ]
  },
  {
   "cell_type": "code",
   "execution_count": 14,
   "metadata": {
    "collapsed": false
   },
   "outputs": [
    {
     "name": "stdout",
     "output_type": "stream",
     "text": [
      "Confusion Matrix:\n",
      "[[50476    66]\n",
      " [  162  3955]]\n",
      "Accuracy: 0.995828683291\n"
     ]
    }
   ],
   "source": [
    "# KNN for standingup\n",
    "neigh = KNeighborsClassifier(n_neighbors=10)\n",
    "labels_su = wearable_data[\"class_standingup\"].as_matrix()\n",
    "\n",
    "su_features_train, su_features_test, su_labels_train, su_labels_test = train_test_split(features, labels_su, test_size=0.33, random_state=42)\n",
    "\n",
    "neigh.fit(su_features_train, su_labels_train)\n",
    "su_predictions_test = neigh.predict(su_features_test)\n",
    "\n",
    "print (\"Confusion Matrix:\")\n",
    "print (confusion_matrix(su_labels_test, su_predictions_test))\n",
    "print (\"Accuracy: \" + str(metrics.accuracy_score(su_labels_test, su_predictions_test)))"
   ]
  },
  {
   "cell_type": "code",
   "execution_count": 15,
   "metadata": {
    "collapsed": false
   },
   "outputs": [
    {
     "name": "stdout",
     "output_type": "stream",
     "text": [
      "Confusion Matrix:\n",
      "[[40199    38]\n",
      " [  235 14187]]\n",
      "Accuracy: 0.995005397098\n"
     ]
    }
   ],
   "source": [
    "# KNN for walking\n",
    "neigh = KNeighborsClassifier(n_neighbors=10)\n",
    "labels_wa = wearable_data[\"class_walking\"].as_matrix()\n",
    "\n",
    "wa_features_train, wa_features_test, wa_labels_train, wa_labels_test = train_test_split(features, labels_wa, test_size=0.33, random_state=42)\n",
    "\n",
    "neigh.fit(wa_features_train, wa_labels_train)\n",
    "wa_predictions_test = neigh.predict(wa_features_test)\n",
    "\n",
    "print (\"Confusion Matrix:\")\n",
    "print (confusion_matrix(wa_labels_test, wa_predictions_test))\n",
    "print (\"Accuracy: \" + str(metrics.accuracy_score(wa_labels_test, wa_predictions_test)))"
   ]
  },
  {
   "cell_type": "markdown",
   "metadata": {},
   "source": [
    "## PCA"
   ]
  },
  {
   "cell_type": "code",
   "execution_count": 19,
   "metadata": {
    "collapsed": false
   },
   "outputs": [],
   "source": [
    "from sklearn.decomposition import PCA\n",
    "from sklearn import tree\n",
    "from sklearn.metrics import accuracy_score, f1_score, precision_score, recall_score, classification_report, confusion_matrix\n",
    "\n",
    "pca_f1_score = []\n",
    "pca_precision = []\n",
    "pca_recall = []\n",
    "\n",
    "for i in range(1, 18):\n",
    "    pca = PCA(n_components = i)\n",
    "    pca.fit(features)\n",
    "    pca_features = pca.transform(features)\n",
    "    pca_features_train, pca_features_test, pca_labels_train, pca_labels_test = train_test_split(pca_features, labels, test_size=0.33,random_state=42)\n",
    "    pca_dt = tree.DecisionTreeClassifier(max_depth=6,min_samples_leaf=5)\n",
    "    pca_dt.fit(pca_features_train,pca_labels_train)\n",
    "    pca_pred_dt = pca_dt.predict(pca_features_test)\n",
    "    pca_f1_score.append(f1_score(pca_labels_test, pca_pred_dt, average=\"macro\"))\n",
    "    pca_precision.append(precision_score(pca_labels_test, pca_pred_dt, average=\"macro\"))\n",
    "    pca_recall.append(recall_score(pca_labels_test, pca_pred_dt, average=\"macro\"))    "
   ]
  },
  {
   "cell_type": "code",
   "execution_count": 20,
   "metadata": {
    "collapsed": false
   },
   "outputs": [
    {
     "name": "stdout",
     "output_type": "stream",
     "text": [
      "[0.35860875545674564, 0.66456670700886067, 0.68852093126235692, 0.67902574984111697, 0.68810811689203566, 0.69797736570923341, 0.7964665858193537, 0.79550316845174585, 0.78505091148966266, 0.79090524278937235, 0.78742866239197618, 0.80377132190819633, 0.79633667124490581, 0.80109275200669905, 0.75710369247723563, 0.75712842345010978, 0.75721235391909314]\n",
      "[0.61981551784258859, 0.77057035020959996, 0.78270461440005334, 0.82378055080662127, 0.86680246069404365, 0.87717777276542319, 0.81586962609314462, 0.81870880206356045, 0.81955645107398123, 0.81798745862407041, 0.80846308516833643, 0.82444976790181068, 0.82705520843091951, 0.82982943038600199, 0.86289379901680652, 0.86288498768168154, 0.8628625590333312]\n",
      "[0.3167737142300992, 0.62938499446590768, 0.66517311739215379, 0.63267553619780625, 0.62702010909738981, 0.63496224860173567, 0.78230564008493597, 0.77684747022996137, 0.75861356959440052, 0.76945977357383699, 0.77176897489290064, 0.78695210532408455, 0.77529854454394298, 0.78154698637064901, 0.71182311936022857, 0.71188339663569578, 0.71193569052940919]\n"
     ]
    }
   ],
   "source": [
    "print(pca_f1_score)\n",
    "print(pca_precision)\n",
    "print(pca_recall)"
   ]
  },
  {
   "cell_type": "code",
   "execution_count": 22,
   "metadata": {
    "collapsed": false
   },
   "outputs": [
    {
     "data": {
      "image/png": "[encoded data removed]",
      "text/plain": [
       "<matplotlib.figure.Figure at 0x117d05fd0>"
      ]
     },
     "metadata": {},
     "output_type": "display_data"
    }
   ],
   "source": [
    "import numpy as np\n",
    "import matplotlib.pyplot as plt\n",
    "%matplotlib inline\n",
    "\n",
    "x = np.arange(1, 18)\n",
    "\n",
    "plt.plot(x, pca_f1_score)\n",
    "plt.plot(x, pca_precision)\n",
    "plt.plot(x, pca_recall)\n",
    "plt.legend(['f1 score', 'precision', 'recall'], loc='lower right')\n",
    "plt.xlabel(\"Number of dimensions\")\n",
    "plt.ylabel(\"Score\")\n",
    "plt.show()"
   ]
  },
  {
   "cell_type": "markdown",
   "metadata": {},
   "source": [
    "## K-Means"
   ]
  },
  {
   "cell_type": "code",
   "execution_count": 23,
   "metadata": {
    "collapsed": false
   },
   "outputs": [
    {
     "name": "stdout",
     "output_type": "stream",
     "text": [
      "[[88423 26579]\n",
      " [41251  9380]]\n",
      "\n",
      "[[22665 88200  4137]\n",
      " [    0 41246  9385]]\n",
      "\n",
      "[[ 6886 22665 81316  4135]\n",
      " [41234     0    12  9385]]\n",
      "\n",
      "[[81357 22595  3942  6248   860]\n",
      " [   12     0  9382 41209    28]]\n",
      "\n",
      "[[ 6735 22596   859 80031   840  3941]\n",
      " [26195     0    28    12 15014  9382]]\n",
      "\n",
      "[[  833 21981   506 79989   858  4111  6724]\n",
      " [15014     0  5573    12    28  3809 26195]]\n",
      "\n",
      "[[  210 21981 79543   506   856   840  6955  4111]\n",
      " [ 5686     0    12  5573    28 14963 20560  3809]]\n",
      "\n",
      "[[76949 21981  4111  6949   501   856   123   811  2721]\n",
      " [   12     0  3807 20556  5575    28  5693 14960     0]]\n",
      "\n",
      "[0.69431816123598555, 0.72600266855034923, 0.93338887782024116, 0.93823694553621562, 0.93023129448841713, 0.92808196434285439, 0.92537718932821356, 0.92615601963376859]\n"
     ]
    }
   ],
   "source": [
    "# k-means for sitting\n",
    "from sklearn.cluster import KMeans\n",
    "\n",
    "accuracy_array = []\n",
    "i_values = range(2,10)\n",
    "\n",
    "for i in i_values:\n",
    "    k_means = KMeans(n_clusters = i, random_state = 1)\n",
    "    sitting_label = wearable_data[wearable_data.columns.values[-5]].as_matrix()\n",
    "    X, y = features, sitting_label\n",
    "    k_means.fit(X)\n",
    "    y_pred = k_means.predict(X)\n",
    "\n",
    "    # we want to obtain the confusion matrix for the k-means\n",
    "    # but we are only concerned with the first two rows because we are only looking at 0/1 labels for a class at a time\n",
    "    from sklearn.metrics import confusion_matrix, accuracy_score\n",
    "    cm = confusion_matrix(sitting_label, y_pred)\n",
    "    results = cm[:2, :]\n",
    "    print(results)\n",
    "    print()\n",
    "\n",
    "    # we combine the clusters with more one labels than zero labels\n",
    "\n",
    "    TP = 0\n",
    "    FN = 0\n",
    "    FP = 0\n",
    "    TN = 0\n",
    "\n",
    "    for x in range (0, i):\n",
    "        # more 1s than 0s - class labeled as 1\n",
    "        if results[1,x] > results[0,x]:\n",
    "            TP += results[1,x]\n",
    "            FP += results[0,x]\n",
    "        else:\n",
    "            TN += results[0,x]\n",
    "            FN += results[1,x]\n",
    "\n",
    "    accuracy = (TP + TN) / (TP + FN + FP + TN)\n",
    "    accuracy_array.append(accuracy)\n",
    "\n",
    "print(accuracy_array)"
   ]
  },
  {
   "cell_type": "code",
   "execution_count": 24,
   "metadata": {
    "collapsed": false
   },
   "outputs": [
    {
     "data": {
      "text/plain": [
       "<matplotlib.text.Text at 0x10b439438>"
      ]
     },
     "execution_count": 24,
     "metadata": {},
     "output_type": "execute_result"
    },
    {
     "data": {
      "image/png": "[encoded data removed]",
      "text/plain": [
       "<matplotlib.figure.Figure at 0x118cd1d68>"
      ]
     },
     "metadata": {},
     "output_type": "display_data"
    }
   ],
   "source": [
    "fig, axes = plt.subplots(figsize=(30,7))\n",
    "plt.subplot(1,3,3)\n",
    "plt.plot(i_values, accuracy_array, linewidth=2.0)\n",
    "plt.xlabel(\"i\")\n",
    "plt.ylabel(\"accuracy\")\n"
   ]
  },
  {
   "cell_type": "code",
   "execution_count": 25,
   "metadata": {
    "collapsed": false,
    "scrolled": true
   },
   "outputs": [
    {
     "name": "stdout",
     "output_type": "stream",
     "text": [
      "[[121033  32773]\n",
      " [  8641   3186]]\n",
      "\n",
      "[[ 21410 120814  11582]\n",
      " [  1255   8632   1940]]\n",
      "\n",
      "[[45189 21410 75627 11580]\n",
      " [ 2931  1255  5701  1940]]\n",
      "\n",
      "[[75635 21339 11385 44563   884]\n",
      " [ 5734  1256  1939  2894     4]]\n",
      "\n",
      "[[29347 21340   883 75003 15849 11384]\n",
      " [ 3583  1256     4  5040     5  1939]]\n",
      "\n",
      "[[15844 20854  6061 74956   882  5868 29341]\n",
      " [    3  1127    18  5045     4  2052  3578]]\n",
      "\n",
      "[[ 5877 20854 74630  6061   880 15799 23837  5868]\n",
      " [   19  1127  4925    18     4     4  3678  2052]]\n",
      "\n",
      "[[72027 20854  5866 23839  6058   880  5794 15767  2721]\n",
      " [ 4934  1127  2052  3666    18     4    22     4     0]]\n",
      "\n",
      "[0.9285951471023286, 0.9285951471023286, 0.9285951471023286, 0.9285951471023286, 0.9285951471023286, 0.9285951471023286, 0.9285951471023286, 0.9285951471023286]\n"
     ]
    }
   ],
   "source": [
    "# k-means for sittingdown\n",
    "from sklearn.cluster import KMeans\n",
    "\n",
    "accuracy_array = []\n",
    "i_values = range(2,10)\n",
    "\n",
    "for i in i_values:\n",
    "    k_means = KMeans(n_clusters = i, random_state = 1)\n",
    "    sd_label = wearable_data[wearable_data.columns.values[-4]].as_matrix()\n",
    "    X, y = features, sd_label\n",
    "    k_means.fit(X)\n",
    "    y_pred = k_means.predict(X)\n",
    "\n",
    "    # we want to obtain the confusion matrix for the k-means\n",
    "    # but we are only concerned with the first two rows because we are only looking at 0/1 labels for a class at a time\n",
    "    from sklearn.metrics import confusion_matrix, accuracy_score\n",
    "    cm = confusion_matrix(sd_label, y_pred)\n",
    "    results = cm[:2, :]\n",
    "    print(results)\n",
    "    print()\n",
    "\n",
    "    # we combine the clusters with more one labels than zero labels\n",
    "\n",
    "    TP = 0\n",
    "    FN = 0\n",
    "    FP = 0\n",
    "    TN = 0\n",
    "\n",
    "    for x in range (0, i):\n",
    "        # more 1s than 0s - class labeled as 1\n",
    "        if results[1,x] > results[0,x]:\n",
    "            TP += results[1,x]\n",
    "            FP += results[0,x]\n",
    "        else:\n",
    "            TN += results[0,x]\n",
    "            FN += results[1,x]\n",
    "\n",
    "    accuracy = (TP + TN) / (TP + FN + FP + TN)\n",
    "    accuracy_array.append(accuracy)\n",
    "\n",
    "print(accuracy_array)"
   ]
  },
  {
   "cell_type": "code",
   "execution_count": 26,
   "metadata": {
    "collapsed": false
   },
   "outputs": [
    {
     "data": {
      "text/plain": [
       "<matplotlib.text.Text at 0x10d7529e8>"
      ]
     },
     "execution_count": 26,
     "metadata": {},
     "output_type": "execute_result"
    },
    {
     "data": {
      "image/png": "[encoded data removed]",
      "text/plain": [
       "<matplotlib.figure.Figure at 0x10cb4c278>"
      ]
     },
     "metadata": {},
     "output_type": "display_data"
    }
   ],
   "source": [
    "fig, axes = plt.subplots(figsize=(30,7))\n",
    "plt.subplot(1,3,3)\n",
    "plt.plot(i_values, accuracy_array, linewidth=2.0)\n",
    "plt.xlabel(\"i\")\n",
    "plt.ylabel(\"accuracy\")"
   ]
  },
  {
   "cell_type": "markdown",
   "metadata": {},
   "source": [
    "## 3-Means "
   ]
  },
  {
   "cell_type": "code",
   "execution_count": 28,
   "metadata": {
    "collapsed": false
   },
   "outputs": [
    {
     "data": {
      "image/png": "[encoded data removed]",
      "text/plain": [
       "<matplotlib.figure.Figure at 0x118dc64a8>"
      ]
     },
     "metadata": {},
     "output_type": "display_data"
    }
   ],
   "source": [
    "import matplotlib.pyplot as plt\n",
    "from mpl_toolkits.mplot3d import Axes3D\n",
    "\n",
    "colors = ['r','g','b','y','m']\n",
    "\n",
    "pca = PCA(n_components = 3)\n",
    "pca.fit(features)\n",
    "pca_features = pca.transform(features)\n",
    "\n",
    "pca_k_means = KMeans(n_clusters = 3, random_state = 1)\n",
    "pca_k_means.fit(pca_features)\n",
    "pca_y_pred = pca_k_means.predict(pca_features)\n",
    "\n",
    "pred = []\n",
    "length = range(len(labels))\n",
    "\n",
    "for i in length:\n",
    "    if labels[i][0] == 1:\n",
    "        pred.append(colors[0])\n",
    "    elif labels[i][1] == 1:\n",
    "        pred.append(colors[1])\n",
    "    elif labels[i][2] == 1:\n",
    "        pred.append(colors[2])\n",
    "    elif labels[i][3] == 1:\n",
    "        pred.append(colors[3])\n",
    "    else:\n",
    "        pred.append(colors[4])\n",
    "\n",
    "fig = plt.figure()\n",
    "ax = fig.add_subplot(111, projection='3d')\n",
    "ax.scatter(pca_features[:,0], pca_features[:,1], pca_features[:,2], c=pred)\n",
    "\n",
    "ax.set_xlabel('pca 1')\n",
    "ax.set_ylabel('pca 2')\n",
    "ax.set_zlabel('pca 3')\n",
    "ax.set_title('First three PCA Dimensions')\n",
    "plt.show()"
   ]
  }
 ],
 "metadata": {
  "anaconda-cloud": {},
  "kernelspec": {
   "display_name": "Python [tensorflow]",
   "language": "python",
   "name": "Python [tensorflow]"
  },
  "language_info": {
   "codemirror_mode": {
    "name": "ipython",
    "version": 3
   },
   "file_extension": ".py",
   "mimetype": "text/x-python",
   "name": "python",
   "nbconvert_exporter": "python",
   "pygments_lexer": "ipython3",
   "version": "3.5.2"
  }
 },
 "nbformat": 4,
 "nbformat_minor": 0
}
